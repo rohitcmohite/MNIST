{
  "nbformat": 4,
  "nbformat_minor": 0,
  "metadata": {
    "colab": {
      "name": "MNIST_Using_KerasTF.ipynb",
      "provenance": []
    },
    "kernelspec": {
      "name": "python3",
      "display_name": "Python 3"
    }
  },
  "cells": [
    {
      "cell_type": "code",
      "metadata": {
        "id": "ajMZt4ox91u7"
      },
      "source": [
        "import tensorflow as tf\r\n",
        "from tensorflow.keras.datasets import mnist\r\n",
        "from tensorflow.keras.utils import to_categorical\r\n",
        "from tensorflow.keras.layers import Dense, Flatten\r\n",
        "from tensorflow.keras.losses import BinaryCrossentropy\r\n",
        "from keras import backend as K"
      ],
      "execution_count": 26,
      "outputs": []
    },
    {
      "cell_type": "code",
      "metadata": {
        "id": "gtN3IIOI-JmF"
      },
      "source": [
        "(x_train, y_train),(x_val, y_val) = mnist.load_data()\r\n"
      ],
      "execution_count": 2,
      "outputs": []
    },
    {
      "cell_type": "code",
      "metadata": {
        "colab": {
          "base_uri": "https://localhost:8080/"
        },
        "id": "--lU3J-7--7C",
        "outputId": "fe23ef87-1c18-4043-e3e6-fcf2536b661f"
      },
      "source": [
        "x_train.shape"
      ],
      "execution_count": 3,
      "outputs": [
        {
          "output_type": "execute_result",
          "data": {
            "text/plain": [
              "(60000, 28, 28)"
            ]
          },
          "metadata": {
            "tags": []
          },
          "execution_count": 3
        }
      ]
    },
    {
      "cell_type": "code",
      "metadata": {
        "colab": {
          "base_uri": "https://localhost:8080/"
        },
        "id": "DA17sSMfD2gH",
        "outputId": "12ccf5e3-0cdc-4e08-eb94-901d8121525b"
      },
      "source": [
        "y_train.shape"
      ],
      "execution_count": 12,
      "outputs": [
        {
          "output_type": "execute_result",
          "data": {
            "text/plain": [
              "(60000, 10)"
            ]
          },
          "metadata": {
            "tags": []
          },
          "execution_count": 12
        }
      ]
    },
    {
      "cell_type": "code",
      "metadata": {
        "id": "XqBP7jxl_BDB"
      },
      "source": [
        "x_train = x_train.astype('float32') / 255\r\n",
        "y_train = to_categorical(y_train)"
      ],
      "execution_count": 4,
      "outputs": []
    },
    {
      "cell_type": "code",
      "metadata": {
        "id": "SqF6imYcDqn4"
      },
      "source": [
        "x_val = x_train.astype('float32') / 255\r\n",
        "y_val = to_categorical(y_val)"
      ],
      "execution_count": 10,
      "outputs": []
    },
    {
      "cell_type": "code",
      "metadata": {
        "id": "GuMIpg6i_E4h"
      },
      "source": [
        "model = tf.keras.Sequential([\r\n",
        "                             Flatten(input_shape=(28, 28)),\r\n",
        "                             Dense(128, activation='sigmoid'),\r\n",
        "                             Dense(64, activation='relu'),\r\n",
        "                             Dense(10, activation='softmax')\r\n",
        "])"
      ],
      "execution_count": 61,
      "outputs": []
    },
    {
      "cell_type": "code",
      "metadata": {
        "id": "X4YDcN8s_eOE"
      },
      "source": [
        "model.compile(optimizer='SGD', loss=BinaryCrossentropy(), metrics=['accuracy'])"
      ],
      "execution_count": 62,
      "outputs": []
    },
    {
      "cell_type": "code",
      "metadata": {
        "colab": {
          "base_uri": "https://localhost:8080/"
        },
        "id": "fp1KBggfEZZA",
        "outputId": "4b4bd687-6049-4afd-d257-6efc30a043f1"
      },
      "source": [
        "type(x_val)"
      ],
      "execution_count": 63,
      "outputs": [
        {
          "output_type": "execute_result",
          "data": {
            "text/plain": [
              "numpy.ndarray"
            ]
          },
          "metadata": {
            "tags": []
          },
          "execution_count": 63
        }
      ]
    },
    {
      "cell_type": "code",
      "metadata": {
        "id": "urh2LpBfIWIL"
      },
      "source": [
        "K.set_value(model.optimizer.learning_rate, 0.01)"
      ],
      "execution_count": 64,
      "outputs": []
    },
    {
      "cell_type": "code",
      "metadata": {
        "colab": {
          "base_uri": "https://localhost:8080/"
        },
        "id": "CK67JPuG_l3R",
        "outputId": "81759500-ebe6-4c44-8cb6-bb72abeaed91"
      },
      "source": [
        "history = model.fit(x_train, y_train,batch_size=128, epochs=50)"
      ],
      "execution_count": 65,
      "outputs": [
        {
          "output_type": "stream",
          "text": [
            "Epoch 1/50\n",
            "469/469 [==============================] - 2s 3ms/step - loss: 0.4411 - accuracy: 0.1600\n",
            "Epoch 2/50\n",
            "469/469 [==============================] - 2s 4ms/step - loss: 0.3170 - accuracy: 0.3149\n",
            "Epoch 3/50\n",
            "469/469 [==============================] - 2s 3ms/step - loss: 0.3115 - accuracy: 0.3997\n",
            "Epoch 4/50\n",
            "469/469 [==============================] - 2s 3ms/step - loss: 0.3063 - accuracy: 0.4855\n",
            "Epoch 5/50\n",
            "469/469 [==============================] - 2s 3ms/step - loss: 0.3007 - accuracy: 0.5441\n",
            "Epoch 6/50\n",
            "469/469 [==============================] - 2s 3ms/step - loss: 0.2948 - accuracy: 0.5854\n",
            "Epoch 7/50\n",
            "469/469 [==============================] - 2s 4ms/step - loss: 0.2881 - accuracy: 0.6113\n",
            "Epoch 8/50\n",
            "469/469 [==============================] - 2s 3ms/step - loss: 0.2805 - accuracy: 0.6466\n",
            "Epoch 9/50\n",
            "469/469 [==============================] - 2s 3ms/step - loss: 0.2726 - accuracy: 0.6652\n",
            "Epoch 10/50\n",
            "469/469 [==============================] - 2s 3ms/step - loss: 0.2646 - accuracy: 0.6802\n",
            "Epoch 11/50\n",
            "469/469 [==============================] - 2s 3ms/step - loss: 0.2563 - accuracy: 0.6947\n",
            "Epoch 12/50\n",
            "469/469 [==============================] - 2s 4ms/step - loss: 0.2482 - accuracy: 0.7024\n",
            "Epoch 13/50\n",
            "469/469 [==============================] - 2s 3ms/step - loss: 0.2395 - accuracy: 0.7126\n",
            "Epoch 14/50\n",
            "469/469 [==============================] - 2s 3ms/step - loss: 0.2310 - accuracy: 0.7301\n",
            "Epoch 15/50\n",
            "469/469 [==============================] - 2s 4ms/step - loss: 0.2233 - accuracy: 0.7392\n",
            "Epoch 16/50\n",
            "469/469 [==============================] - 2s 4ms/step - loss: 0.2154 - accuracy: 0.7443\n",
            "Epoch 17/50\n",
            "469/469 [==============================] - 2s 4ms/step - loss: 0.2078 - accuracy: 0.7527\n",
            "Epoch 18/50\n",
            "469/469 [==============================] - 2s 4ms/step - loss: 0.2012 - accuracy: 0.7619\n",
            "Epoch 19/50\n",
            "469/469 [==============================] - 2s 3ms/step - loss: 0.1945 - accuracy: 0.7715\n",
            "Epoch 20/50\n",
            "469/469 [==============================] - 2s 3ms/step - loss: 0.1892 - accuracy: 0.7769\n",
            "Epoch 21/50\n",
            "469/469 [==============================] - 2s 3ms/step - loss: 0.1829 - accuracy: 0.7830\n",
            "Epoch 22/50\n",
            "469/469 [==============================] - 2s 3ms/step - loss: 0.1783 - accuracy: 0.7871\n",
            "Epoch 23/50\n",
            "469/469 [==============================] - 2s 4ms/step - loss: 0.1728 - accuracy: 0.7954\n",
            "Epoch 24/50\n",
            "469/469 [==============================] - 2s 4ms/step - loss: 0.1683 - accuracy: 0.8009\n",
            "Epoch 25/50\n",
            "469/469 [==============================] - 2s 4ms/step - loss: 0.1636 - accuracy: 0.8031\n",
            "Epoch 26/50\n",
            "469/469 [==============================] - 2s 4ms/step - loss: 0.1600 - accuracy: 0.8056\n",
            "Epoch 27/50\n",
            "469/469 [==============================] - 2s 4ms/step - loss: 0.1559 - accuracy: 0.8121\n",
            "Epoch 28/50\n",
            "469/469 [==============================] - 2s 4ms/step - loss: 0.1524 - accuracy: 0.8128\n",
            "Epoch 29/50\n",
            "469/469 [==============================] - 2s 4ms/step - loss: 0.1486 - accuracy: 0.8183\n",
            "Epoch 30/50\n",
            "469/469 [==============================] - 2s 4ms/step - loss: 0.1456 - accuracy: 0.8200\n",
            "Epoch 31/50\n",
            "469/469 [==============================] - 2s 4ms/step - loss: 0.1426 - accuracy: 0.8245\n",
            "Epoch 32/50\n",
            "469/469 [==============================] - 2s 4ms/step - loss: 0.1392 - accuracy: 0.8283\n",
            "Epoch 33/50\n",
            "469/469 [==============================] - 2s 4ms/step - loss: 0.1375 - accuracy: 0.8291\n",
            "Epoch 34/50\n",
            "469/469 [==============================] - 2s 4ms/step - loss: 0.1348 - accuracy: 0.8316\n",
            "Epoch 35/50\n",
            "469/469 [==============================] - 2s 4ms/step - loss: 0.1320 - accuracy: 0.8352\n",
            "Epoch 36/50\n",
            "469/469 [==============================] - 2s 4ms/step - loss: 0.1299 - accuracy: 0.8370\n",
            "Epoch 37/50\n",
            "469/469 [==============================] - 2s 4ms/step - loss: 0.1278 - accuracy: 0.8387\n",
            "Epoch 38/50\n",
            "469/469 [==============================] - 2s 3ms/step - loss: 0.1259 - accuracy: 0.8401\n",
            "Epoch 39/50\n",
            "469/469 [==============================] - 2s 4ms/step - loss: 0.1239 - accuracy: 0.8428\n",
            "Epoch 40/50\n",
            "469/469 [==============================] - 2s 3ms/step - loss: 0.1223 - accuracy: 0.8449\n",
            "Epoch 41/50\n",
            "469/469 [==============================] - 2s 3ms/step - loss: 0.1203 - accuracy: 0.8477\n",
            "Epoch 42/50\n",
            "469/469 [==============================] - 2s 3ms/step - loss: 0.1192 - accuracy: 0.8469\n",
            "Epoch 43/50\n",
            "469/469 [==============================] - 2s 3ms/step - loss: 0.1167 - accuracy: 0.8504\n",
            "Epoch 44/50\n",
            "469/469 [==============================] - 2s 3ms/step - loss: 0.1157 - accuracy: 0.8524\n",
            "Epoch 45/50\n",
            "469/469 [==============================] - 2s 4ms/step - loss: 0.1142 - accuracy: 0.8524\n",
            "Epoch 46/50\n",
            "469/469 [==============================] - 2s 3ms/step - loss: 0.1131 - accuracy: 0.8520\n",
            "Epoch 47/50\n",
            "469/469 [==============================] - 2s 3ms/step - loss: 0.1112 - accuracy: 0.8573\n",
            "Epoch 48/50\n",
            "469/469 [==============================] - 2s 3ms/step - loss: 0.1097 - accuracy: 0.8594\n",
            "Epoch 49/50\n",
            "469/469 [==============================] - 2s 3ms/step - loss: 0.1100 - accuracy: 0.8578\n",
            "Epoch 50/50\n",
            "469/469 [==============================] - 2s 3ms/step - loss: 0.1081 - accuracy: 0.8607\n"
          ],
          "name": "stdout"
        }
      ]
    },
    {
      "cell_type": "code",
      "metadata": {
        "colab": {
          "base_uri": "https://localhost:8080/"
        },
        "id": "UHddzVe8DjLm",
        "outputId": "6caedc54-c9f4-423b-e8cd-a63e5fd1c6b4"
      },
      "source": [
        "history.history.keys()"
      ],
      "execution_count": 66,
      "outputs": [
        {
          "output_type": "execute_result",
          "data": {
            "text/plain": [
              "dict_keys(['loss', 'accuracy'])"
            ]
          },
          "metadata": {
            "tags": []
          },
          "execution_count": 66
        }
      ]
    },
    {
      "cell_type": "code",
      "metadata": {
        "colab": {
          "base_uri": "https://localhost:8080/",
          "height": 265
        },
        "id": "0RsMLlJGKJEI",
        "outputId": "02f8386f-acc6-4620-da1e-2adc84ed3631"
      },
      "source": [
        "import matplotlib.pyplot as plt\r\n",
        "\r\n",
        "#plt.plot(history.history['accuracy'])\r\n",
        "plt.plot(history.history['accuracy'], label=\"Accuracy\")\r\n",
        "plt.plot(history.history['loss'], label=\"Loss\")\r\n",
        "\r\n",
        "plt.legend()\r\n",
        "plt.show()\r\n"
      ],
      "execution_count": 67,
      "outputs": [
        {
          "output_type": "display_data",
          "data": {
            "image/png": "[encoded data removed]",
            "text/plain": [
              "<Figure size 432x288 with 1 Axes>"
            ]
          },
          "metadata": {
            "tags": [],
            "needs_background": "light"
          }
        }
      ]
    },
    {
      "cell_type": "code",
      "metadata": {
        "id": "nE6pjeWBKbga"
      },
      "source": [
        ""
      ],
      "execution_count": 67,
      "outputs": []
    }
  ]
}